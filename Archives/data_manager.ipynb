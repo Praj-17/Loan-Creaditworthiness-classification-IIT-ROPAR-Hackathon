{
 "cells": [
  {
   "attachments": {},
   "cell_type": "markdown",
   "metadata": {},
   "source": [
    "#  Data Management \n",
    "\n",
    "This file is used to merge the given two tables and also to generate, Pandas Profiling report everytime needed."
   ]
  },
  {
   "attachments": {},
   "cell_type": "markdown",
   "metadata": {},
   "source": [
    "### Joining the 2 Tables Applicant and Loan\n",
    "\n",
    "There are 2 tables given, Applicant and Loan which are separated logically by the data they consists.\n",
    "\n",
    "But for EDA and Better understanding of the model we will be joining the 2 tables based upon the relationships in them.\n",
    "\n",
    "In the Applicant Table we can see the first column as applicant_id which is the <b>Primary key </b> of it.\n",
    "\n",
    "Moreover, in the Loan Table we can see the Second column as applicant_id which is the <b>Foreign Key </b> of it.\n",
    "\n",
    "Based upon this common column we will be joining the 2 datasets.\n"
   ]
  },
  {
   "cell_type": "code",
   "execution_count": 2,
   "metadata": {},
   "outputs": [],
   "source": [
    "import pandas as pd\n",
    "\n",
    "#importing the datasets\n",
    "applicants = pd.read_csv('data/applicant.csv')\n",
    "loans = pd.read_csv('data/loan.csv')"
   ]
  },
  {
   "cell_type": "code",
   "execution_count": 3,
   "metadata": {},
   "outputs": [
    {
     "name": "stdout",
     "output_type": "stream",
     "text": [
      "(1000, 15)\n"
     ]
    },
    {
     "data": {
      "text/plain": [
       "(1000, 13)"
      ]
     },
     "execution_count": 3,
     "metadata": {},
     "output_type": "execute_result"
    }
   ],
   "source": [
    "print(applicants.shape)\n",
    "loans.shape"
   ]
  },
  {
   "attachments": {},
   "cell_type": "markdown",
   "metadata": {},
   "source": [
    "Hence, the Final merged dataset will have the dimensions \n",
    "\n",
    "rows = 1000\n",
    "cols = 15+13-1 = 27 "
   ]
  },
  {
   "cell_type": "code",
   "execution_count": 4,
   "metadata": {},
   "outputs": [
    {
     "data": {
      "text/plain": [
       "(1000, 27)"
      ]
     },
     "execution_count": 4,
     "metadata": {},
     "output_type": "execute_result"
    }
   ],
   "source": [
    "data = pd.merge(applicants,loans , how=\"inner\", on=\"applicant_id\")\n",
    "\n",
    "data.shape"
   ]
  },
  {
   "cell_type": "code",
   "execution_count": 5,
   "metadata": {},
   "outputs": [
    {
     "data": {
      "text/html": [
       "<div>\n",
       "<style scoped>\n",
       "    .dataframe tbody tr th:only-of-type {\n",
       "        vertical-align: middle;\n",
       "    }\n",
       "\n",
       "    .dataframe tbody tr th {\n",
       "        vertical-align: top;\n",
       "    }\n",
       "\n",
       "    .dataframe thead th {\n",
       "        text-align: right;\n",
       "    }\n",
       "</style>\n",
       "<table border=\"1\" class=\"dataframe\">\n",
       "  <thead>\n",
       "    <tr style=\"text-align: right;\">\n",
       "      <th></th>\n",
       "      <th>applicant_id</th>\n",
       "      <th>Primary_applicant_age_in_years</th>\n",
       "      <th>Gender</th>\n",
       "      <th>Marital_status</th>\n",
       "      <th>Number_of_dependents</th>\n",
       "      <th>Housing</th>\n",
       "      <th>Years_at_current_residence</th>\n",
       "      <th>Employment_status</th>\n",
       "      <th>Has_been_employed_for_at_least</th>\n",
       "      <th>Has_been_employed_for_at_most</th>\n",
       "      <th>...</th>\n",
       "      <th>Purpose</th>\n",
       "      <th>Principal_loan_amount</th>\n",
       "      <th>EMI_rate_in_percentage_of_disposable_income</th>\n",
       "      <th>Property</th>\n",
       "      <th>Has_coapplicant</th>\n",
       "      <th>Has_guarantor</th>\n",
       "      <th>Other_EMI_plans</th>\n",
       "      <th>Number_of_existing_loans_at_this_bank</th>\n",
       "      <th>Loan_history</th>\n",
       "      <th>high_risk_applicant</th>\n",
       "    </tr>\n",
       "  </thead>\n",
       "  <tbody>\n",
       "    <tr>\n",
       "      <th>0</th>\n",
       "      <td>1469590</td>\n",
       "      <td>67</td>\n",
       "      <td>male</td>\n",
       "      <td>single</td>\n",
       "      <td>1</td>\n",
       "      <td>own</td>\n",
       "      <td>4</td>\n",
       "      <td>skilled employee / official</td>\n",
       "      <td>7 years</td>\n",
       "      <td>NaN</td>\n",
       "      <td>...</td>\n",
       "      <td>electronic equipment</td>\n",
       "      <td>1169000</td>\n",
       "      <td>4</td>\n",
       "      <td>real estate</td>\n",
       "      <td>0</td>\n",
       "      <td>0</td>\n",
       "      <td>NaN</td>\n",
       "      <td>2</td>\n",
       "      <td>critical/pending loans at other banks</td>\n",
       "      <td>0</td>\n",
       "    </tr>\n",
       "    <tr>\n",
       "      <th>1</th>\n",
       "      <td>1203873</td>\n",
       "      <td>22</td>\n",
       "      <td>female</td>\n",
       "      <td>divorced/separated/married</td>\n",
       "      <td>1</td>\n",
       "      <td>own</td>\n",
       "      <td>2</td>\n",
       "      <td>skilled employee / official</td>\n",
       "      <td>1 year</td>\n",
       "      <td>4 years</td>\n",
       "      <td>...</td>\n",
       "      <td>electronic equipment</td>\n",
       "      <td>5951000</td>\n",
       "      <td>2</td>\n",
       "      <td>real estate</td>\n",
       "      <td>0</td>\n",
       "      <td>0</td>\n",
       "      <td>NaN</td>\n",
       "      <td>1</td>\n",
       "      <td>existing loans paid back duly till now</td>\n",
       "      <td>1</td>\n",
       "    </tr>\n",
       "    <tr>\n",
       "      <th>2</th>\n",
       "      <td>1432761</td>\n",
       "      <td>49</td>\n",
       "      <td>male</td>\n",
       "      <td>single</td>\n",
       "      <td>2</td>\n",
       "      <td>own</td>\n",
       "      <td>3</td>\n",
       "      <td>unskilled - resident</td>\n",
       "      <td>4 years</td>\n",
       "      <td>7 years</td>\n",
       "      <td>...</td>\n",
       "      <td>education</td>\n",
       "      <td>2096000</td>\n",
       "      <td>2</td>\n",
       "      <td>real estate</td>\n",
       "      <td>0</td>\n",
       "      <td>0</td>\n",
       "      <td>NaN</td>\n",
       "      <td>1</td>\n",
       "      <td>critical/pending loans at other banks</td>\n",
       "      <td>0</td>\n",
       "    </tr>\n",
       "    <tr>\n",
       "      <th>3</th>\n",
       "      <td>1207582</td>\n",
       "      <td>45</td>\n",
       "      <td>male</td>\n",
       "      <td>single</td>\n",
       "      <td>2</td>\n",
       "      <td>for free</td>\n",
       "      <td>4</td>\n",
       "      <td>skilled employee / official</td>\n",
       "      <td>4 years</td>\n",
       "      <td>7 years</td>\n",
       "      <td>...</td>\n",
       "      <td>FF&amp;E</td>\n",
       "      <td>7882000</td>\n",
       "      <td>2</td>\n",
       "      <td>building society savings agreement/life insurance</td>\n",
       "      <td>0</td>\n",
       "      <td>1</td>\n",
       "      <td>NaN</td>\n",
       "      <td>1</td>\n",
       "      <td>existing loans paid back duly till now</td>\n",
       "      <td>0</td>\n",
       "    </tr>\n",
       "    <tr>\n",
       "      <th>4</th>\n",
       "      <td>1674436</td>\n",
       "      <td>53</td>\n",
       "      <td>male</td>\n",
       "      <td>single</td>\n",
       "      <td>2</td>\n",
       "      <td>for free</td>\n",
       "      <td>4</td>\n",
       "      <td>skilled employee / official</td>\n",
       "      <td>1 year</td>\n",
       "      <td>4 years</td>\n",
       "      <td>...</td>\n",
       "      <td>new vehicle</td>\n",
       "      <td>4870000</td>\n",
       "      <td>3</td>\n",
       "      <td>NaN</td>\n",
       "      <td>0</td>\n",
       "      <td>0</td>\n",
       "      <td>NaN</td>\n",
       "      <td>2</td>\n",
       "      <td>delay in paying off loans in the past</td>\n",
       "      <td>1</td>\n",
       "    </tr>\n",
       "    <tr>\n",
       "      <th>...</th>\n",
       "      <td>...</td>\n",
       "      <td>...</td>\n",
       "      <td>...</td>\n",
       "      <td>...</td>\n",
       "      <td>...</td>\n",
       "      <td>...</td>\n",
       "      <td>...</td>\n",
       "      <td>...</td>\n",
       "      <td>...</td>\n",
       "      <td>...</td>\n",
       "      <td>...</td>\n",
       "      <td>...</td>\n",
       "      <td>...</td>\n",
       "      <td>...</td>\n",
       "      <td>...</td>\n",
       "      <td>...</td>\n",
       "      <td>...</td>\n",
       "      <td>...</td>\n",
       "      <td>...</td>\n",
       "      <td>...</td>\n",
       "      <td>...</td>\n",
       "    </tr>\n",
       "    <tr>\n",
       "      <th>995</th>\n",
       "      <td>1880194</td>\n",
       "      <td>31</td>\n",
       "      <td>female</td>\n",
       "      <td>divorced/separated/married</td>\n",
       "      <td>1</td>\n",
       "      <td>own</td>\n",
       "      <td>4</td>\n",
       "      <td>unskilled - resident</td>\n",
       "      <td>4 years</td>\n",
       "      <td>7 years</td>\n",
       "      <td>...</td>\n",
       "      <td>FF&amp;E</td>\n",
       "      <td>1736000</td>\n",
       "      <td>3</td>\n",
       "      <td>real estate</td>\n",
       "      <td>0</td>\n",
       "      <td>0</td>\n",
       "      <td>NaN</td>\n",
       "      <td>1</td>\n",
       "      <td>existing loans paid back duly till now</td>\n",
       "      <td>0</td>\n",
       "    </tr>\n",
       "    <tr>\n",
       "      <th>996</th>\n",
       "      <td>1114064</td>\n",
       "      <td>40</td>\n",
       "      <td>male</td>\n",
       "      <td>divorced/separated</td>\n",
       "      <td>1</td>\n",
       "      <td>own</td>\n",
       "      <td>4</td>\n",
       "      <td>management / self-employed / highly qualified ...</td>\n",
       "      <td>1 year</td>\n",
       "      <td>4 years</td>\n",
       "      <td>...</td>\n",
       "      <td>used vehicle</td>\n",
       "      <td>3857000</td>\n",
       "      <td>4</td>\n",
       "      <td>building society savings agreement/life insurance</td>\n",
       "      <td>0</td>\n",
       "      <td>0</td>\n",
       "      <td>NaN</td>\n",
       "      <td>1</td>\n",
       "      <td>existing loans paid back duly till now</td>\n",
       "      <td>0</td>\n",
       "    </tr>\n",
       "    <tr>\n",
       "      <th>997</th>\n",
       "      <td>1758046</td>\n",
       "      <td>38</td>\n",
       "      <td>male</td>\n",
       "      <td>single</td>\n",
       "      <td>1</td>\n",
       "      <td>own</td>\n",
       "      <td>4</td>\n",
       "      <td>skilled employee / official</td>\n",
       "      <td>7 years</td>\n",
       "      <td>NaN</td>\n",
       "      <td>...</td>\n",
       "      <td>electronic equipment</td>\n",
       "      <td>804000</td>\n",
       "      <td>4</td>\n",
       "      <td>car or other</td>\n",
       "      <td>0</td>\n",
       "      <td>0</td>\n",
       "      <td>NaN</td>\n",
       "      <td>1</td>\n",
       "      <td>existing loans paid back duly till now</td>\n",
       "      <td>0</td>\n",
       "    </tr>\n",
       "    <tr>\n",
       "      <th>998</th>\n",
       "      <td>1824545</td>\n",
       "      <td>23</td>\n",
       "      <td>male</td>\n",
       "      <td>single</td>\n",
       "      <td>1</td>\n",
       "      <td>for free</td>\n",
       "      <td>4</td>\n",
       "      <td>skilled employee / official</td>\n",
       "      <td>1 year</td>\n",
       "      <td>4 years</td>\n",
       "      <td>...</td>\n",
       "      <td>electronic equipment</td>\n",
       "      <td>1845000</td>\n",
       "      <td>4</td>\n",
       "      <td>NaN</td>\n",
       "      <td>0</td>\n",
       "      <td>0</td>\n",
       "      <td>NaN</td>\n",
       "      <td>1</td>\n",
       "      <td>existing loans paid back duly till now</td>\n",
       "      <td>1</td>\n",
       "    </tr>\n",
       "    <tr>\n",
       "      <th>999</th>\n",
       "      <td>1660770</td>\n",
       "      <td>27</td>\n",
       "      <td>male</td>\n",
       "      <td>single</td>\n",
       "      <td>1</td>\n",
       "      <td>own</td>\n",
       "      <td>4</td>\n",
       "      <td>skilled employee / official</td>\n",
       "      <td>NaN</td>\n",
       "      <td>0 year</td>\n",
       "      <td>...</td>\n",
       "      <td>used vehicle</td>\n",
       "      <td>4576000</td>\n",
       "      <td>3</td>\n",
       "      <td>car or other</td>\n",
       "      <td>0</td>\n",
       "      <td>0</td>\n",
       "      <td>NaN</td>\n",
       "      <td>1</td>\n",
       "      <td>critical/pending loans at other banks</td>\n",
       "      <td>0</td>\n",
       "    </tr>\n",
       "  </tbody>\n",
       "</table>\n",
       "<p>1000 rows × 27 columns</p>\n",
       "</div>"
      ],
      "text/plain": [
       "     applicant_id  Primary_applicant_age_in_years  Gender  \\\n",
       "0         1469590                              67    male   \n",
       "1         1203873                              22  female   \n",
       "2         1432761                              49    male   \n",
       "3         1207582                              45    male   \n",
       "4         1674436                              53    male   \n",
       "..            ...                             ...     ...   \n",
       "995       1880194                              31  female   \n",
       "996       1114064                              40    male   \n",
       "997       1758046                              38    male   \n",
       "998       1824545                              23    male   \n",
       "999       1660770                              27    male   \n",
       "\n",
       "                 Marital_status  Number_of_dependents   Housing  \\\n",
       "0                        single                     1       own   \n",
       "1    divorced/separated/married                     1       own   \n",
       "2                        single                     2       own   \n",
       "3                        single                     2  for free   \n",
       "4                        single                     2  for free   \n",
       "..                          ...                   ...       ...   \n",
       "995  divorced/separated/married                     1       own   \n",
       "996          divorced/separated                     1       own   \n",
       "997                      single                     1       own   \n",
       "998                      single                     1  for free   \n",
       "999                      single                     1       own   \n",
       "\n",
       "     Years_at_current_residence  \\\n",
       "0                             4   \n",
       "1                             2   \n",
       "2                             3   \n",
       "3                             4   \n",
       "4                             4   \n",
       "..                          ...   \n",
       "995                           4   \n",
       "996                           4   \n",
       "997                           4   \n",
       "998                           4   \n",
       "999                           4   \n",
       "\n",
       "                                     Employment_status  \\\n",
       "0                          skilled employee / official   \n",
       "1                          skilled employee / official   \n",
       "2                                 unskilled - resident   \n",
       "3                          skilled employee / official   \n",
       "4                          skilled employee / official   \n",
       "..                                                 ...   \n",
       "995                               unskilled - resident   \n",
       "996  management / self-employed / highly qualified ...   \n",
       "997                        skilled employee / official   \n",
       "998                        skilled employee / official   \n",
       "999                        skilled employee / official   \n",
       "\n",
       "    Has_been_employed_for_at_least Has_been_employed_for_at_most  ...  \\\n",
       "0                          7 years                           NaN  ...   \n",
       "1                           1 year                       4 years  ...   \n",
       "2                          4 years                       7 years  ...   \n",
       "3                          4 years                       7 years  ...   \n",
       "4                           1 year                       4 years  ...   \n",
       "..                             ...                           ...  ...   \n",
       "995                        4 years                       7 years  ...   \n",
       "996                         1 year                       4 years  ...   \n",
       "997                        7 years                           NaN  ...   \n",
       "998                         1 year                       4 years  ...   \n",
       "999                            NaN                        0 year  ...   \n",
       "\n",
       "                  Purpose  Principal_loan_amount  \\\n",
       "0    electronic equipment                1169000   \n",
       "1    electronic equipment                5951000   \n",
       "2               education                2096000   \n",
       "3                    FF&E                7882000   \n",
       "4             new vehicle                4870000   \n",
       "..                    ...                    ...   \n",
       "995                  FF&E                1736000   \n",
       "996          used vehicle                3857000   \n",
       "997  electronic equipment                 804000   \n",
       "998  electronic equipment                1845000   \n",
       "999          used vehicle                4576000   \n",
       "\n",
       "    EMI_rate_in_percentage_of_disposable_income  \\\n",
       "0                                             4   \n",
       "1                                             2   \n",
       "2                                             2   \n",
       "3                                             2   \n",
       "4                                             3   \n",
       "..                                          ...   \n",
       "995                                           3   \n",
       "996                                           4   \n",
       "997                                           4   \n",
       "998                                           4   \n",
       "999                                           3   \n",
       "\n",
       "                                              Property Has_coapplicant  \\\n",
       "0                                          real estate               0   \n",
       "1                                          real estate               0   \n",
       "2                                          real estate               0   \n",
       "3    building society savings agreement/life insurance               0   \n",
       "4                                                  NaN               0   \n",
       "..                                                 ...             ...   \n",
       "995                                        real estate               0   \n",
       "996  building society savings agreement/life insurance               0   \n",
       "997                                       car or other               0   \n",
       "998                                                NaN               0   \n",
       "999                                       car or other               0   \n",
       "\n",
       "    Has_guarantor  Other_EMI_plans Number_of_existing_loans_at_this_bank  \\\n",
       "0               0              NaN                                     2   \n",
       "1               0              NaN                                     1   \n",
       "2               0              NaN                                     1   \n",
       "3               1              NaN                                     1   \n",
       "4               0              NaN                                     2   \n",
       "..            ...              ...                                   ...   \n",
       "995             0              NaN                                     1   \n",
       "996             0              NaN                                     1   \n",
       "997             0              NaN                                     1   \n",
       "998             0              NaN                                     1   \n",
       "999             0              NaN                                     1   \n",
       "\n",
       "                               Loan_history  high_risk_applicant  \n",
       "0     critical/pending loans at other banks                    0  \n",
       "1    existing loans paid back duly till now                    1  \n",
       "2     critical/pending loans at other banks                    0  \n",
       "3    existing loans paid back duly till now                    0  \n",
       "4     delay in paying off loans in the past                    1  \n",
       "..                                      ...                  ...  \n",
       "995  existing loans paid back duly till now                    0  \n",
       "996  existing loans paid back duly till now                    0  \n",
       "997  existing loans paid back duly till now                    0  \n",
       "998  existing loans paid back duly till now                    1  \n",
       "999   critical/pending loans at other banks                    0  \n",
       "\n",
       "[1000 rows x 27 columns]"
      ]
     },
     "execution_count": 5,
     "metadata": {},
     "output_type": "execute_result"
    }
   ],
   "source": [
    "data"
   ]
  },
  {
   "attachments": {},
   "cell_type": "markdown",
   "metadata": {},
   "source": [
    "### Generating the pandas profiling report.\n",
    "\n",
    "This report provides basic EDA and an overview of the dataset.\n",
    "\n",
    "The following important data such as \n",
    "\n",
    "<li>Missing Data</li>\n",
    "<li>Types of Variables</li>\n",
    "<li>Classes in Ordinal variables</li>\n",
    "<li>Range of Numeric Variables</li>\n",
    "<li>Correlations and Sample Data Visualizations</li>"
   ]
  },
  {
   "cell_type": "code",
   "execution_count": 6,
   "metadata": {},
   "outputs": [
    {
     "data": {
      "application/vnd.jupyter.widget-view+json": {
       "model_id": "0b23ce68e4074f7a9086482a78106633",
       "version_major": 2,
       "version_minor": 0
      },
      "text/plain": [
       "Summarize dataset:   0%|          | 0/5 [00:00<?, ?it/s]"
      ]
     },
     "metadata": {},
     "output_type": "display_data"
    },
    {
     "data": {
      "application/vnd.jupyter.widget-view+json": {
       "model_id": "e11db1ce6bb34364b14e8d7b294ef758",
       "version_major": 2,
       "version_minor": 0
      },
      "text/plain": [
       "Generate report structure:   0%|          | 0/1 [00:00<?, ?it/s]"
      ]
     },
     "metadata": {},
     "output_type": "display_data"
    },
    {
     "data": {
      "application/vnd.jupyter.widget-view+json": {
       "model_id": "8891b4fefb684dac8dedb72722ea4be2",
       "version_major": 2,
       "version_minor": 0
      },
      "text/plain": [
       "Render HTML:   0%|          | 0/1 [00:00<?, ?it/s]"
      ]
     },
     "metadata": {},
     "output_type": "display_data"
    },
    {
     "data": {
      "application/vnd.jupyter.widget-view+json": {
       "model_id": "025c831d5d204557bd4cd5d2a13a77ac",
       "version_major": 2,
       "version_minor": 0
      },
      "text/plain": [
       "Export report to file:   0%|          | 0/1 [00:00<?, ?it/s]"
      ]
     },
     "metadata": {},
     "output_type": "display_data"
    }
   ],
   "source": [
    "from pandas_profiling import profile_report\n",
    "profile = profile_report.ProfileReport(data)\n",
    "profile.to_file(output_file = f\"Reports/data_merged.html\")"
   ]
  },
  {
   "cell_type": "code",
   "execution_count": 7,
   "metadata": {},
   "outputs": [],
   "source": [
    "# def get_report(file):\n",
    "    \n",
    "#     from pandas_profiling import profile_report\n",
    "\n",
    "#     #Loading the dataset\n",
    "#     df = pd.read_csv(file)\n",
    "#     #Generate a report\n",
    "#     profile = profile_report.ProfileReport(df) #minimal == true can be used to reduce the output data stream\n",
    "#     file_name = (file.split('/')[-1]).split('.')[0]\n",
    "#     profile.to_file(output_file = f\"{file_name}.html\")\n"
   ]
  },
  {
   "attachments": {},
   "cell_type": "markdown",
   "metadata": {},
   "source": [
    "## Some Inferences from the generated report\n",
    "\n",
    "<ol>\n",
    "<li>The Balance of the dataset is 7:3 which makes it critical to think weather it should be balanced or imbalanced. Since w e have adequate amount of records for the minority class I might consider it balanced and apply K-fold while splitting</li>\n",
    "\n",
    "<li>There are some columns which have more than 60% percent of missing cells. We might need to eliminate them or they will add unnecessary bias incase we try imputing them</li>\n",
    "\n",
    "<li>All sorts of Variables are present within the dataset and hence, we need to take special care while handling each variable</li>\n",
    "\n",
    "<li>The Variable \"Telephone\" is constant (No Use)</li>\n",
    "\n",
    "</ol>"
   ]
  },
  {
   "cell_type": "code",
   "execution_count": 8,
   "metadata": {},
   "outputs": [],
   "source": [
    "# Saving the Merged Data\n",
    "data.to_csv('data/data_merged.csv',index= False)"
   ]
  },
  {
   "attachments": {},
   "cell_type": "markdown",
   "metadata": {},
   "source": [
    "## Report of preprocessed data"
   ]
  },
  {
   "cell_type": "code",
   "execution_count": 9,
   "metadata": {},
   "outputs": [
    {
     "data": {
      "application/vnd.jupyter.widget-view+json": {
       "model_id": "7faca580d1304fe3baf0dc319920fdf1",
       "version_major": 2,
       "version_minor": 0
      },
      "text/plain": [
       "Summarize dataset:   0%|          | 0/5 [00:00<?, ?it/s]"
      ]
     },
     "metadata": {},
     "output_type": "display_data"
    },
    {
     "data": {
      "application/vnd.jupyter.widget-view+json": {
       "model_id": "a362837122144e19bccaf1b5fa7d88bf",
       "version_major": 2,
       "version_minor": 0
      },
      "text/plain": [
       "Generate report structure:   0%|          | 0/1 [00:00<?, ?it/s]"
      ]
     },
     "metadata": {},
     "output_type": "display_data"
    },
    {
     "data": {
      "application/vnd.jupyter.widget-view+json": {
       "model_id": "a2be9054af46493f9d8be7769399354a",
       "version_major": 2,
       "version_minor": 0
      },
      "text/plain": [
       "Render HTML:   0%|          | 0/1 [00:00<?, ?it/s]"
      ]
     },
     "metadata": {},
     "output_type": "display_data"
    },
    {
     "data": {
      "application/vnd.jupyter.widget-view+json": {
       "model_id": "5d657c8130354c0191f805b13478fe1f",
       "version_major": 2,
       "version_minor": 0
      },
      "text/plain": [
       "Export report to file:   0%|          | 0/1 [00:00<?, ?it/s]"
      ]
     },
     "metadata": {},
     "output_type": "display_data"
    }
   ],
   "source": [
    "def get_report(file):\n",
    "    \n",
    "    from pandas_profiling import profile_report\n",
    "\n",
    "    #Loading the dataset\n",
    "    df = pd.read_csv(file)\n",
    "    #Generate a report\n",
    "    profile = profile_report.ProfileReport(df) #minimal == true can be used to reduce the output data stream\n",
    "    file_name = (file.split('/')[-1]).split('.')[0]\n",
    "    profile.to_file(output_file = f\"Reports/{file_name}.html\")\n",
    "\n",
    "get_report(r'data\\Preprocessed\\final.csv')"
   ]
  }
 ],
 "metadata": {
  "kernelspec": {
   "display_name": "Python 3",
   "language": "python",
   "name": "python3"
  },
  "language_info": {
   "codemirror_mode": {
    "name": "ipython",
    "version": 3
   },
   "file_extension": ".py",
   "mimetype": "text/x-python",
   "name": "python",
   "nbconvert_exporter": "python",
   "pygments_lexer": "ipython3",
   "version": "3.9.7 (tags/v3.9.7:1016ef3, Aug 30 2021, 20:19:38) [MSC v.1929 64 bit (AMD64)]"
  },
  "orig_nbformat": 4,
  "vscode": {
   "interpreter": {
    "hash": "941096ab4a304f3509822dba92ee1d36e30c4bf17f0e34fdfd12300d4a2ccfca"
   }
  }
 },
 "nbformat": 4,
 "nbformat_minor": 2
}
