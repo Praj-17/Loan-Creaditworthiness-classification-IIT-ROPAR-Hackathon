{
 "cells": [
  {
   "cell_type": "code",
   "execution_count": 6,
   "metadata": {},
   "outputs": [],
   "source": [
    "import pandas as pd\n",
    "import numpy as np\n",
    "\n",
    "data = [[\"skilled employee / official\", \"unskilled - resident\", \"management / self-employed / highly qualified employee / officer\", \"unemployed / unskilled - non-resident\"],\n",
    " [\"Medium\", \"Low\", \"High\", \"Very high\"],\n",
    "\n",
    "[\"electronic equipment\", \"education\", \"FF&E\", \"new vehicle\", \"used vehicle\", \"business\", \"domestic appliances\", \"repair costs\", \"career development\"],\n",
    "\n",
    "[\"critical/pending loans at other banks\", \"existing loans paid back duly till now\", \"delay in paying off loans in the past\", \"no loans taken/all loans paid back duly\", \"all loans at this bank paid back duly\"],\n",
    "\n",
    "[\"real estate\", \"building society savings agreement/life insurance\", \"car or other\"]]\n",
    "\n",
    "columns  = ['Skills','Property','History', 'Purpose', 'Balance' ]\n",
    "\n",
    "for i in data:\n",
    "    i = pd.Series(i)\n",
    "\n",
    "df = pd.DataFrame(data).transpose()\n",
    "\n",
    "df.columns = columns\n",
    "\n",
    "df.to_csv('Ordinal_data_ranks.csv')\n"
   ]
  },
  {
   "cell_type": "code",
   "execution_count": null,
   "metadata": {},
   "outputs": [],
   "source": []
  }
 ],
 "metadata": {
  "kernelspec": {
   "display_name": "Python 3",
   "language": "python",
   "name": "python3"
  },
  "language_info": {
   "codemirror_mode": {
    "name": "ipython",
    "version": 3
   },
   "file_extension": ".py",
   "mimetype": "text/x-python",
   "name": "python",
   "nbconvert_exporter": "python",
   "pygments_lexer": "ipython3",
   "version": "3.9.7"
  },
  "orig_nbformat": 4,
  "vscode": {
   "interpreter": {
    "hash": "941096ab4a304f3509822dba92ee1d36e30c4bf17f0e34fdfd12300d4a2ccfca"
   }
  }
 },
 "nbformat": 4,
 "nbformat_minor": 2
}
